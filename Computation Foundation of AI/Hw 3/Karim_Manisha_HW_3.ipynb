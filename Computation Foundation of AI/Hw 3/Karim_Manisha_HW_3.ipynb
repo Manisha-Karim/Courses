{
 "cells": [
  {
   "cell_type": "markdown",
   "id": "80eca601-8fba-40c2-9e36-0e1a0e989326",
   "metadata": {},
   "source": [
    "## 0. Read Dataset\n"
   ]
  },
  {
   "cell_type": "code",
   "execution_count": 1,
   "id": "802c791b-a1cd-4b4e-aa06-bdb7ceb20086",
   "metadata": {},
   "outputs": [],
   "source": [
    "import pandas as pd\n",
    "import numpy as np\n",
    "import matplotlib.pyplot as plt\n",
    "import seaborn as sns\n",
    "\n",
    "from sklearn.cluster import KMeans"
   ]
  },
  {
   "cell_type": "code",
   "execution_count": 2,
   "id": "feb3f2fd-992d-4851-b17f-17323c99931d",
   "metadata": {},
   "outputs": [],
   "source": [
    "from sklearn.model_selection import train_test_split\n",
    "from sklearn.metrics import classification_report,confusion_matrix,accuracy_score"
   ]
  },
  {
   "cell_type": "code",
   "execution_count": 3,
   "id": "46f1ae4e-f58f-4f29-8b70-c7c4a8cfa8dc",
   "metadata": {},
   "outputs": [],
   "source": [
    "from sklearn.preprocessing import StandardScaler"
   ]
  },
  {
   "cell_type": "code",
   "execution_count": 4,
   "id": "30c0e4a1-82f7-4192-b907-9ec76c55b1a8",
   "metadata": {},
   "outputs": [],
   "source": [
    "from sklearn import svm"
   ]
  },
  {
   "cell_type": "code",
   "execution_count": 5,
   "id": "a4a923f0-83db-4561-b3e8-83921b7682b5",
   "metadata": {},
   "outputs": [
    {
     "data": {
      "text/plain": [
       "Index(['id', 'age', 'sex', 'chest', 'resting_blood_pressure',\n",
       "       'serum_cholestoral', 'fasting_blood_sugar',\n",
       "       'resting_electrocardiographic_results', 'maximum_heart_rate_achieved',\n",
       "       'exercise_induced_angina', 'oldpeak', 'slope',\n",
       "       'number_of_major_vessels', 'thal', 'class'],\n",
       "      dtype='object')"
      ]
     },
     "execution_count": 5,
     "metadata": {},
     "output_type": "execute_result"
    }
   ],
   "source": [
    "df = pd.read_csv(\"csv_result-heart-statlog.csv\")\n",
    "df.columns"
   ]
  },
  {
   "cell_type": "code",
   "execution_count": 6,
   "id": "c6c3f2b6-035b-45f7-ab63-f54d3acf3528",
   "metadata": {},
   "outputs": [],
   "source": [
    "df.drop(\"id\", inplace = True, axis =1)"
   ]
  },
  {
   "cell_type": "code",
   "execution_count": 7,
   "id": "dd57129c-2565-4597-8c89-0b7d6e750bae",
   "metadata": {},
   "outputs": [
    {
     "data": {
      "text/html": [
       "<div>\n",
       "<style scoped>\n",
       "    .dataframe tbody tr th:only-of-type {\n",
       "        vertical-align: middle;\n",
       "    }\n",
       "\n",
       "    .dataframe tbody tr th {\n",
       "        vertical-align: top;\n",
       "    }\n",
       "\n",
       "    .dataframe thead th {\n",
       "        text-align: right;\n",
       "    }\n",
       "</style>\n",
       "<table border=\"1\" class=\"dataframe\">\n",
       "  <thead>\n",
       "    <tr style=\"text-align: right;\">\n",
       "      <th></th>\n",
       "      <th>age</th>\n",
       "      <th>sex</th>\n",
       "      <th>chest</th>\n",
       "      <th>resting_blood_pressure</th>\n",
       "      <th>serum_cholestoral</th>\n",
       "      <th>fasting_blood_sugar</th>\n",
       "      <th>resting_electrocardiographic_results</th>\n",
       "      <th>maximum_heart_rate_achieved</th>\n",
       "      <th>exercise_induced_angina</th>\n",
       "      <th>oldpeak</th>\n",
       "      <th>slope</th>\n",
       "      <th>number_of_major_vessels</th>\n",
       "      <th>thal</th>\n",
       "      <th>class</th>\n",
       "    </tr>\n",
       "  </thead>\n",
       "  <tbody>\n",
       "    <tr>\n",
       "      <th>0</th>\n",
       "      <td>70</td>\n",
       "      <td>1</td>\n",
       "      <td>4</td>\n",
       "      <td>130</td>\n",
       "      <td>322</td>\n",
       "      <td>0</td>\n",
       "      <td>2</td>\n",
       "      <td>109</td>\n",
       "      <td>0</td>\n",
       "      <td>2.4</td>\n",
       "      <td>2</td>\n",
       "      <td>3</td>\n",
       "      <td>3</td>\n",
       "      <td>present</td>\n",
       "    </tr>\n",
       "    <tr>\n",
       "      <th>1</th>\n",
       "      <td>67</td>\n",
       "      <td>0</td>\n",
       "      <td>3</td>\n",
       "      <td>115</td>\n",
       "      <td>564</td>\n",
       "      <td>0</td>\n",
       "      <td>2</td>\n",
       "      <td>160</td>\n",
       "      <td>0</td>\n",
       "      <td>1.6</td>\n",
       "      <td>2</td>\n",
       "      <td>0</td>\n",
       "      <td>7</td>\n",
       "      <td>absent</td>\n",
       "    </tr>\n",
       "    <tr>\n",
       "      <th>2</th>\n",
       "      <td>57</td>\n",
       "      <td>1</td>\n",
       "      <td>2</td>\n",
       "      <td>124</td>\n",
       "      <td>261</td>\n",
       "      <td>0</td>\n",
       "      <td>0</td>\n",
       "      <td>141</td>\n",
       "      <td>0</td>\n",
       "      <td>0.3</td>\n",
       "      <td>1</td>\n",
       "      <td>0</td>\n",
       "      <td>7</td>\n",
       "      <td>present</td>\n",
       "    </tr>\n",
       "    <tr>\n",
       "      <th>3</th>\n",
       "      <td>64</td>\n",
       "      <td>1</td>\n",
       "      <td>4</td>\n",
       "      <td>128</td>\n",
       "      <td>263</td>\n",
       "      <td>0</td>\n",
       "      <td>0</td>\n",
       "      <td>105</td>\n",
       "      <td>1</td>\n",
       "      <td>0.2</td>\n",
       "      <td>2</td>\n",
       "      <td>1</td>\n",
       "      <td>7</td>\n",
       "      <td>absent</td>\n",
       "    </tr>\n",
       "    <tr>\n",
       "      <th>4</th>\n",
       "      <td>74</td>\n",
       "      <td>0</td>\n",
       "      <td>2</td>\n",
       "      <td>120</td>\n",
       "      <td>269</td>\n",
       "      <td>0</td>\n",
       "      <td>2</td>\n",
       "      <td>121</td>\n",
       "      <td>1</td>\n",
       "      <td>0.2</td>\n",
       "      <td>1</td>\n",
       "      <td>1</td>\n",
       "      <td>3</td>\n",
       "      <td>absent</td>\n",
       "    </tr>\n",
       "  </tbody>\n",
       "</table>\n",
       "</div>"
      ],
      "text/plain": [
       "   age  sex  chest  resting_blood_pressure  serum_cholestoral  \\\n",
       "0   70    1      4                     130                322   \n",
       "1   67    0      3                     115                564   \n",
       "2   57    1      2                     124                261   \n",
       "3   64    1      4                     128                263   \n",
       "4   74    0      2                     120                269   \n",
       "\n",
       "   fasting_blood_sugar  resting_electrocardiographic_results  \\\n",
       "0                    0                                     2   \n",
       "1                    0                                     2   \n",
       "2                    0                                     0   \n",
       "3                    0                                     0   \n",
       "4                    0                                     2   \n",
       "\n",
       "   maximum_heart_rate_achieved  exercise_induced_angina  oldpeak  slope  \\\n",
       "0                          109                        0      2.4      2   \n",
       "1                          160                        0      1.6      2   \n",
       "2                          141                        0      0.3      1   \n",
       "3                          105                        1      0.2      2   \n",
       "4                          121                        1      0.2      1   \n",
       "\n",
       "   number_of_major_vessels  thal    class  \n",
       "0                        3     3  present  \n",
       "1                        0     7   absent  \n",
       "2                        0     7  present  \n",
       "3                        1     7   absent  \n",
       "4                        1     3   absent  "
      ]
     },
     "execution_count": 7,
     "metadata": {},
     "output_type": "execute_result"
    }
   ],
   "source": [
    "df.head()"
   ]
  },
  {
   "cell_type": "code",
   "execution_count": 8,
   "id": "299e805a-ec4a-42ba-b0e1-6792048e8381",
   "metadata": {},
   "outputs": [
    {
     "data": {
      "text/plain": [
       "(270, 14)"
      ]
     },
     "execution_count": 8,
     "metadata": {},
     "output_type": "execute_result"
    }
   ],
   "source": [
    "df.shape"
   ]
  },
  {
   "cell_type": "markdown",
   "id": "1f1fbb49-c569-4b18-aa9e-e9f1368ae9d2",
   "metadata": {},
   "source": [
    "**Check if NULL Values are Present**"
   ]
  },
  {
   "cell_type": "code",
   "execution_count": 9,
   "id": "87eeafd2-05f9-43a5-8104-5a7f179590d6",
   "metadata": {},
   "outputs": [
    {
     "data": {
      "text/plain": [
       "age                                     0\n",
       "sex                                     0\n",
       "chest                                   0\n",
       "resting_blood_pressure                  0\n",
       "serum_cholestoral                       0\n",
       "fasting_blood_sugar                     0\n",
       "resting_electrocardiographic_results    0\n",
       "maximum_heart_rate_achieved             0\n",
       "exercise_induced_angina                 0\n",
       "oldpeak                                 0\n",
       "slope                                   0\n",
       "number_of_major_vessels                 0\n",
       "thal                                    0\n",
       "class                                   0\n",
       "dtype: int64"
      ]
     },
     "execution_count": 9,
     "metadata": {},
     "output_type": "execute_result"
    }
   ],
   "source": [
    "df.isna().sum()"
   ]
  },
  {
   "cell_type": "code",
   "execution_count": 10,
   "id": "ecc9379f-4ebb-4b45-a52a-9c45e5fd51d5",
   "metadata": {},
   "outputs": [
    {
     "name": "stdout",
     "output_type": "stream",
     "text": [
      "0\n",
      "0\n",
      "0\n",
      "0\n",
      "0\n",
      "0\n",
      "0\n",
      "0\n",
      "0\n",
      "0\n",
      "0\n",
      "0\n",
      "0\n",
      "0\n"
     ]
    }
   ],
   "source": [
    "for col in df:\n",
    "   a = (df[col] == \"?\").sum()\n",
    "   print(a)"
   ]
  },
  {
   "cell_type": "markdown",
   "id": "b6831333-6ab9-4703-a672-c706259e46fe",
   "metadata": {},
   "source": [
    "**Encode the Output Class**"
   ]
  },
  {
   "cell_type": "code",
   "execution_count": 11,
   "id": "5c5c4760-a261-49ad-abf5-95ba29256666",
   "metadata": {},
   "outputs": [],
   "source": [
    "df[\"class\"] = np.where(df[\"class\"] == \"present\", 1, 0)"
   ]
  },
  {
   "cell_type": "markdown",
   "id": "df85af50-951d-412c-8a60-00c1f93e9973",
   "metadata": {},
   "source": [
    "**Train Test Split**"
   ]
  },
  {
   "cell_type": "code",
   "execution_count": 12,
   "id": "58127f4e-7ea5-4b44-b5e7-8143c0140e8d",
   "metadata": {},
   "outputs": [],
   "source": [
    "X = df.iloc[: , 0:13]\n",
    "y = df.iloc[: , 13]\n",
    "X_train, X_test, y_train, y_test = train_test_split(X, y , test_size = 0.3, random_state = 123)"
   ]
  },
  {
   "cell_type": "markdown",
   "id": "cbc07e01-2d27-4e53-a5f6-0e10f734bc6a",
   "metadata": {},
   "source": [
    "**Standardization**"
   ]
  },
  {
   "cell_type": "code",
   "execution_count": 13,
   "id": "e2941d53-20f6-44c7-bab4-baf4a17e80e6",
   "metadata": {},
   "outputs": [],
   "source": [
    "scaler = StandardScaler()\n",
    "X_train = scaler.fit_transform(X_train)\n",
    "X_test = scaler.transform(X_test)"
   ]
  },
  {
   "cell_type": "markdown",
   "id": "ec4506e8-b549-4ac1-ab71-36bc9f939007",
   "metadata": {},
   "source": [
    "## 1. Running SVM"
   ]
  },
  {
   "cell_type": "code",
   "execution_count": 14,
   "id": "ccec7276-5307-4109-89a0-ba7db22ec4eb",
   "metadata": {},
   "outputs": [
    {
     "name": "stdout",
     "output_type": "stream",
     "text": [
      "accuracy =  0.7777777777777778\n"
     ]
    }
   ],
   "source": [
    "clf = svm.SVC()\n",
    "clf.fit(X_train, y_train)\n",
    "predictions = clf.predict(X_test)\n",
    "print(\"accuracy = \", accuracy_score(y_test, predictions))"
   ]
  },
  {
   "cell_type": "code",
   "execution_count": 15,
   "id": "05926be9-92f6-4e74-ad7e-0e3e2f015069",
   "metadata": {},
   "outputs": [
    {
     "data": {
      "text/plain": [
       "array([[36,  9],\n",
       "       [ 9, 27]])"
      ]
     },
     "execution_count": 15,
     "metadata": {},
     "output_type": "execute_result"
    }
   ],
   "source": [
    "confusion_matrix(y_test,predictions)"
   ]
  },
  {
   "cell_type": "markdown",
   "id": "2183ff00-b329-4dac-9fa9-9b3c4a37b6ea",
   "metadata": {},
   "source": [
    "**1) [3 pts] show the accuracies of SVC by changing kernel to ‘linear’, ‘poly’, ‘rbf’, and ‘sigmoid’,\n",
    "respectively. Which kernel function shows the best accuracy ? and explain why ?**\n",
    "\n",
    "The choice of kernel depends on the dataset. Since, all of the kernels give similar accuracy, it is best to choose the linear kernel since its the least complex."
   ]
  },
  {
   "cell_type": "code",
   "execution_count": 16,
   "id": "014b6eb7-fbfd-4bf4-b85c-6519c4c7021f",
   "metadata": {},
   "outputs": [],
   "source": [
    "kernel = ['linear', 'rbf', 'poly', 'sigmoid']\n",
    "acc = []\n",
    "\n",
    "for i in range(len(kernel)):\n",
    "    clf = svm.SVC(kernel = kernel[i])\n",
    "    clf.fit(X_train, y_train)\n",
    "    predictions = clf.predict(X_test)\n",
    "    accuracy = (accuracy_score(y_test, predictions))\n",
    "    acc.append(accuracy)"
   ]
  },
  {
   "cell_type": "code",
   "execution_count": 17,
   "id": "c1c6eb08-359d-4a12-813b-1ff85be42daf",
   "metadata": {},
   "outputs": [
    {
     "data": {
      "image/png": "[encoded data removed]",
      "text/plain": [
       "<Figure size 500x400 with 1 Axes>"
      ]
     },
     "metadata": {},
     "output_type": "display_data"
    }
   ],
   "source": [
    "plt.figure(figsize = [5,4])\n",
    "plt.plot(kernel, acc, ls = \"dashed\", color = \"y\")\n",
    "plt.scatter(kernel, acc,color = \"g\")\n",
    "\n",
    "\n",
    "plt.xlabel(\"Kernel\")\n",
    "plt.ylabel(\"Accuracy\")\n",
    "plt.grid()"
   ]
  },
  {
   "cell_type": "markdown",
   "id": "e5a16a9d-20bb-4c4a-8038-f5f44de4cdb1",
   "metadata": {},
   "source": [
    "**2) [3 pts] Now you use ‘poly’ kernel. Change the value of coef0 multiple times to your own choice\n",
    "and show the difference in accuracy. Roughly speaking, it controls how much the model is\n",
    "influenced by high-degree polynomials. Explain the results of this experiments.**\n",
    "\n",
    "The coef hyperparameter defines the degree of polynomial. The data is linear, so the model performs the best with coef0 = 0.\n"
   ]
  },
  {
   "cell_type": "code",
   "execution_count": 18,
   "id": "8586da42-615c-4374-b1ab-29cd24c448ce",
   "metadata": {},
   "outputs": [],
   "source": [
    "coef = [0, 1 , 2, 3]\n",
    "acc = []\n",
    "\n",
    "for i in range(len(coef)):\n",
    "    clf = svm.SVC(kernel = 'poly', coef0 = coef[i])\n",
    "    clf.fit(X_train, y_train)\n",
    "    predictions = clf.predict(X_test)\n",
    "    accuracy = (accuracy_score(y_test, predictions))\n",
    "    acc.append(accuracy)"
   ]
  },
  {
   "cell_type": "code",
   "execution_count": 19,
   "id": "55d7450d-4996-4f04-9281-0e882b005127",
   "metadata": {},
   "outputs": [
    {
     "data": {
      "image/png": "[encoded data removed]",
      "text/plain": [
       "<Figure size 500x400 with 1 Axes>"
      ]
     },
     "metadata": {},
     "output_type": "display_data"
    }
   ],
   "source": [
    "plt.figure(figsize = [5,4])\n",
    "plt.plot(coef, acc, ls = \"dashed\", color = \"y\")\n",
    "plt.scatter(coef, acc,color = \"g\")\n",
    "\n",
    "\n",
    "plt.xlabel(\"Co-efficient\")\n",
    "plt.ylabel(\"Accuracy\")\n",
    "plt.grid()"
   ]
  },
  {
   "cell_type": "markdown",
   "id": "045509bc-530d-4c3b-a7ec-f54b641eb40b",
   "metadata": {},
   "source": [
    "**3) [8 pts] compare the accuracy of SVC with that of IBL, RandomForest, and AdaBoost,\n",
    "respectively (algorithms in HW 2). Compare the results and explain the differences in accuracy\n",
    "between these algorithms in your own words.**\n",
    "\n",
    "The accuracies of SVC, IBL, RandomForest, and AdaBoost are 0.78, 0.81, 0.84, and 0.80. The data is noisy and there are multiple instances where the data overlaps. For this, SVC doesnt perform as well. But, Random Forest does.\n"
   ]
  },
  {
   "cell_type": "markdown",
   "id": "3a84c0d0-f322-4213-b491-3096fcf98218",
   "metadata": {},
   "source": [
    "## 2. Clustering (K Means)"
   ]
  },
  {
   "cell_type": "code",
   "execution_count": 20,
   "id": "c1b1c21c-afab-407d-bdf0-25fd7e1fbfa1",
   "metadata": {
    "scrolled": true
   },
   "outputs": [
    {
     "name": "stdout",
     "output_type": "stream",
     "text": [
      "Inertia for KMeans with 4 clusters = 1690.541462 \n"
     ]
    },
    {
     "name": "stderr",
     "output_type": "stream",
     "text": [
      "/home/manishakarim/miniconda3/lib/python3.9/site-packages/sklearn/cluster/_kmeans.py:1412: FutureWarning: The default value of `n_init` will change from 10 to 'auto' in 1.4. Set the value of `n_init` explicitly to suppress the warning\n",
      "  super()._check_params_vs_input(X, default_n_init=10)\n",
      "/home/manishakarim/miniconda3/lib/python3.9/site-packages/sklearn/cluster/_kmeans.py:1416: FutureWarning: algorithm='auto' is deprecated, it will be removed in 1.3. Using 'lloyd' instead.\n",
      "  warnings.warn(\n"
     ]
    }
   ],
   "source": [
    "kmeans = KMeans(n_clusters=4, max_iter=600, algorithm = 'auto', random_state=0)\n",
    "kmeans.fit(X_train)\n",
    "labels = kmeans.predict(X_train)\n",
    "# cluster labels for each data\n",
    "label = kmeans.labels_\n",
    "# center of each clusters\n",
    "centroids = kmeans.cluster_centers_\n",
    "# distance within cluster\n",
    "print(\"Inertia for KMeans with 4 clusters = %lf \" %(kmeans.inertia_))"
   ]
  },
  {
   "cell_type": "markdown",
   "id": "6cbd8b26-ec49-45e1-a568-87f444b1b2fc",
   "metadata": {},
   "source": [
    "**1) [3 pts] Run KMeans 3 times by changing n_clusters = 2, 3, 5, 7 respectively and show the\n",
    "mean of each cluster**"
   ]
  },
  {
   "cell_type": "code",
   "execution_count": 21,
   "id": "b16d702b-75bb-4a86-a6d1-d130562b2705",
   "metadata": {},
   "outputs": [
    {
     "name": "stdout",
     "output_type": "stream",
     "text": [
      "Inertia for KMeans with 2 clusters = 1993.669987 \n",
      "Inertia for KMeans with 3 clusters = 1833.438821 \n",
      "Inertia for KMeans with 5 clusters = 1610.329181 \n",
      "Inertia for KMeans with 7 clusters = 1456.441524 \n"
     ]
    },
    {
     "name": "stderr",
     "output_type": "stream",
     "text": [
      "/home/manishakarim/miniconda3/lib/python3.9/site-packages/sklearn/cluster/_kmeans.py:1412: FutureWarning: The default value of `n_init` will change from 10 to 'auto' in 1.4. Set the value of `n_init` explicitly to suppress the warning\n",
      "  super()._check_params_vs_input(X, default_n_init=10)\n",
      "/home/manishakarim/miniconda3/lib/python3.9/site-packages/sklearn/cluster/_kmeans.py:1412: FutureWarning: The default value of `n_init` will change from 10 to 'auto' in 1.4. Set the value of `n_init` explicitly to suppress the warning\n",
      "  super()._check_params_vs_input(X, default_n_init=10)\n",
      "/home/manishakarim/miniconda3/lib/python3.9/site-packages/sklearn/cluster/_kmeans.py:1412: FutureWarning: The default value of `n_init` will change from 10 to 'auto' in 1.4. Set the value of `n_init` explicitly to suppress the warning\n",
      "  super()._check_params_vs_input(X, default_n_init=10)\n",
      "/home/manishakarim/miniconda3/lib/python3.9/site-packages/sklearn/cluster/_kmeans.py:1412: FutureWarning: The default value of `n_init` will change from 10 to 'auto' in 1.4. Set the value of `n_init` explicitly to suppress the warning\n",
      "  super()._check_params_vs_input(X, default_n_init=10)\n"
     ]
    }
   ],
   "source": [
    "n = [2, 3, 5, 7]\n",
    "\n",
    "\n",
    "for i in range(len(n)):\n",
    "        kmeans = KMeans(n_clusters=n[i], max_iter=600, random_state=0)\n",
    "        kmeans.fit(X_train)\n",
    "        labels = kmeans.predict(X_train)\n",
    "        # cluster labels for each data\n",
    "        label = kmeans.labels_\n",
    "        # center of each clusters\n",
    "        centroids = kmeans.cluster_centers_\n",
    "        # distance within cluster\n",
    "        print(\"Inertia for KMeans with %i\" %(n[i]) + \" clusters = %lf \" %(kmeans.inertia_))"
   ]
  },
  {
   "cell_type": "markdown",
   "id": "ffdc2c0f-9f95-4152-8a8b-8cd7880353a6",
   "metadata": {},
   "source": [
    "**2) [3 pts] For the clustering of n_clusters=3, pick one cluster. Show the average value of each\n",
    "attribute of the data in that cluster.**"
   ]
  },
  {
   "cell_type": "code",
   "execution_count": 22,
   "id": "80290e72-4ee0-4647-bada-11e25b4a56ae",
   "metadata": {},
   "outputs": [
    {
     "name": "stderr",
     "output_type": "stream",
     "text": [
      "/home/manishakarim/miniconda3/lib/python3.9/site-packages/sklearn/cluster/_kmeans.py:1412: FutureWarning: The default value of `n_init` will change from 10 to 'auto' in 1.4. Set the value of `n_init` explicitly to suppress the warning\n",
      "  super()._check_params_vs_input(X, default_n_init=10)\n",
      "/home/manishakarim/miniconda3/lib/python3.9/site-packages/sklearn/cluster/_kmeans.py:1416: FutureWarning: algorithm='auto' is deprecated, it will be removed in 1.3. Using 'lloyd' instead.\n",
      "  warnings.warn(\n"
     ]
    },
    {
     "data": {
      "text/html": [
       "<div>\n",
       "<style scoped>\n",
       "    .dataframe tbody tr th:only-of-type {\n",
       "        vertical-align: middle;\n",
       "    }\n",
       "\n",
       "    .dataframe tbody tr th {\n",
       "        vertical-align: top;\n",
       "    }\n",
       "\n",
       "    .dataframe thead th {\n",
       "        text-align: right;\n",
       "    }\n",
       "</style>\n",
       "<table border=\"1\" class=\"dataframe\">\n",
       "  <thead>\n",
       "    <tr style=\"text-align: right;\">\n",
       "      <th></th>\n",
       "      <th>attributes</th>\n",
       "      <th>average</th>\n",
       "    </tr>\n",
       "  </thead>\n",
       "  <tbody>\n",
       "    <tr>\n",
       "      <th>0</th>\n",
       "      <td>age</td>\n",
       "      <td>0.391946</td>\n",
       "    </tr>\n",
       "    <tr>\n",
       "      <th>1</th>\n",
       "      <td>sex</td>\n",
       "      <td>-1.268170</td>\n",
       "    </tr>\n",
       "    <tr>\n",
       "      <th>2</th>\n",
       "      <td>chest</td>\n",
       "      <td>-0.219896</td>\n",
       "    </tr>\n",
       "    <tr>\n",
       "      <th>3</th>\n",
       "      <td>resting_blood_pressure</td>\n",
       "      <td>0.124438</td>\n",
       "    </tr>\n",
       "    <tr>\n",
       "      <th>4</th>\n",
       "      <td>serum_cholestoral</td>\n",
       "      <td>0.431571</td>\n",
       "    </tr>\n",
       "    <tr>\n",
       "      <th>5</th>\n",
       "      <td>fasting_blood_sugar</td>\n",
       "      <td>-0.167381</td>\n",
       "    </tr>\n",
       "    <tr>\n",
       "      <th>6</th>\n",
       "      <td>resting_electrocardiographic_results</td>\n",
       "      <td>-0.076750</td>\n",
       "    </tr>\n",
       "    <tr>\n",
       "      <th>7</th>\n",
       "      <td>maximum_heart_rate_achieved</td>\n",
       "      <td>0.050043</td>\n",
       "    </tr>\n",
       "    <tr>\n",
       "      <th>8</th>\n",
       "      <td>exercise_induced_angina</td>\n",
       "      <td>-0.524834</td>\n",
       "    </tr>\n",
       "    <tr>\n",
       "      <th>9</th>\n",
       "      <td>oldpeak</td>\n",
       "      <td>-0.365494</td>\n",
       "    </tr>\n",
       "    <tr>\n",
       "      <th>10</th>\n",
       "      <td>slope</td>\n",
       "      <td>-0.223362</td>\n",
       "    </tr>\n",
       "    <tr>\n",
       "      <th>11</th>\n",
       "      <td>number_of_major_vessels</td>\n",
       "      <td>-0.372041</td>\n",
       "    </tr>\n",
       "    <tr>\n",
       "      <th>12</th>\n",
       "      <td>thal</td>\n",
       "      <td>-0.752154</td>\n",
       "    </tr>\n",
       "  </tbody>\n",
       "</table>\n",
       "</div>"
      ],
      "text/plain": [
       "                              attributes   average\n",
       "0                                    age  0.391946\n",
       "1                                    sex -1.268170\n",
       "2                                  chest -0.219896\n",
       "3                 resting_blood_pressure  0.124438\n",
       "4                      serum_cholestoral  0.431571\n",
       "5                    fasting_blood_sugar -0.167381\n",
       "6   resting_electrocardiographic_results -0.076750\n",
       "7            maximum_heart_rate_achieved  0.050043\n",
       "8                exercise_induced_angina -0.524834\n",
       "9                                oldpeak -0.365494\n",
       "10                                 slope -0.223362\n",
       "11               number_of_major_vessels -0.372041\n",
       "12                                  thal -0.752154"
      ]
     },
     "execution_count": 22,
     "metadata": {},
     "output_type": "execute_result"
    }
   ],
   "source": [
    "kmeans = KMeans(n_clusters=3, max_iter=600, algorithm = 'auto', random_state=0)\n",
    "kmeans.fit(X_train)\n",
    "labels = kmeans.predict(X_train)\n",
    "# cluster labels for each data\n",
    "label = kmeans.labels_\n",
    "# center of each clusters\n",
    "centroids = kmeans.cluster_centers_[0]  #Centroids of 1st cluster\n",
    "attributes = X.columns\n",
    "\n",
    "pd.DataFrame({'attributes':attributes, 'average':centroids})"
   ]
  },
  {
   "cell_type": "markdown",
   "id": "b3b4393a-826f-4c1d-bbc2-ee985c0cb919",
   "metadata": {},
   "source": [
    "**3) [3 pts] For each cluster, calculate majority (the most frequent) value of class/target value. (let’s\n",
    "call this ‘cluster label’)**"
   ]
  },
  {
   "cell_type": "code",
   "execution_count": 23,
   "id": "a1d0b6b8-e95d-48ea-bd58-cc2eb8584df3",
   "metadata": {},
   "outputs": [
    {
     "name": "stdout",
     "output_type": "stream",
     "text": [
      "\n",
      " cluster_label = 0 \n",
      " y  label\n",
      "0  0        44\n",
      "1  0         5\n",
      "Name: count, dtype: int64\n",
      "\n",
      " cluster_label = 1 \n",
      " y  label\n",
      "0  1        54\n",
      "1  1        17\n",
      "Name: count, dtype: int64\n",
      "\n",
      " cluster_label = 2 \n",
      " y  label\n",
      "1  2        62\n",
      "0  2         7\n",
      "Name: count, dtype: int64\n"
     ]
    },
    {
     "name": "stderr",
     "output_type": "stream",
     "text": [
      "/home/manishakarim/miniconda3/lib/python3.9/site-packages/sklearn/cluster/_kmeans.py:1412: FutureWarning: The default value of `n_init` will change from 10 to 'auto' in 1.4. Set the value of `n_init` explicitly to suppress the warning\n",
      "  super()._check_params_vs_input(X, default_n_init=10)\n",
      "/home/manishakarim/miniconda3/lib/python3.9/site-packages/sklearn/cluster/_kmeans.py:1416: FutureWarning: algorithm='auto' is deprecated, it will be removed in 1.3. Using 'lloyd' instead.\n",
      "  warnings.warn(\n"
     ]
    }
   ],
   "source": [
    "kmeans = KMeans(n_clusters=3, max_iter=600, algorithm = 'auto', random_state=0)\n",
    "kmeans.fit(X_train)\n",
    "labels = kmeans.predict(X_train)\n",
    "# cluster labels for each data\n",
    "label = kmeans.labels_\n",
    "# center of each clusters\n",
    "cluster_label = pd.DataFrame({'y' : y_train, 'label': label})\n",
    "\n",
    "print('\\n cluster_label = 0 \\n',(cluster_label[label == 0]).value_counts())\n",
    "print('\\n cluster_label = 1 \\n',(cluster_label[label == 1]).value_counts())\n",
    "print('\\n cluster_label = 2 \\n',(cluster_label[label == 2]).value_counts())\n"
   ]
  },
  {
   "cell_type": "markdown",
   "id": "fb9a9b76-2ea2-4470-ac3d-2cff3901a62b",
   "metadata": {},
   "source": [
    "**4) [5 pts] Suppose each of X_test is classified based on ‘cluster labels’, calculate the accuracy.**\n"
   ]
  },
  {
   "cell_type": "code",
   "execution_count": 24,
   "id": "095f00a9-b447-41a7-9f45-54eb42c57ca0",
   "metadata": {},
   "outputs": [
    {
     "name": "stderr",
     "output_type": "stream",
     "text": [
      "/home/manishakarim/miniconda3/lib/python3.9/site-packages/sklearn/cluster/_kmeans.py:1412: FutureWarning: The default value of `n_init` will change from 10 to 'auto' in 1.4. Set the value of `n_init` explicitly to suppress the warning\n",
      "  super()._check_params_vs_input(X, default_n_init=10)\n",
      "/home/manishakarim/miniconda3/lib/python3.9/site-packages/sklearn/cluster/_kmeans.py:1416: FutureWarning: algorithm='auto' is deprecated, it will be removed in 1.3. Using 'lloyd' instead.\n",
      "  warnings.warn(\n"
     ]
    },
    {
     "name": "stdout",
     "output_type": "stream",
     "text": [
      "accuracy =  0.18518518518518517\n"
     ]
    }
   ],
   "source": [
    "kmeans = KMeans(n_clusters=2, max_iter=600, algorithm = 'auto', random_state=0)\n",
    "kmeans.fit(X_train)\n",
    "y_pred = kmeans.predict(X_test)\n",
    "\n",
    "print('accuracy = ', accuracy_score(y_pred, y_test))"
   ]
  },
  {
   "cell_type": "markdown",
   "id": "fcd01172-22b3-4732-a542-3558ba71d1e1",
   "metadata": {},
   "source": [
    "**5) [3 pts] Run KMeans 3 times by changing n_init values (your own choice of n_init). Compare\n",
    "the performance of each.**"
   ]
  },
  {
   "cell_type": "code",
   "execution_count": 25,
   "id": "c12647da-1435-4746-a54f-bc1ed74f6d4b",
   "metadata": {},
   "outputs": [
    {
     "name": "stdout",
     "output_type": "stream",
     "text": [
      "Accuracy for KMeans with 25 n_iter =  0.18518518518518517\n",
      "Accuracy for KMeans with 50 n_iter =  0.18518518518518517\n",
      "Accuracy for KMeans with 100 n_iter =  0.18518518518518517\n"
     ]
    }
   ],
   "source": [
    "n = [25, 50, 100]\n",
    "\n",
    "\n",
    "for i in range(len(n)):\n",
    "        kmeans = KMeans(n_clusters= 2, n_init = n[i], max_iter=600, random_state=0)\n",
    "        kmeans.fit(X_train)\n",
    "        y_pred = kmeans.predict(X_test)\n",
    "        # distance within cluster\n",
    "        print(\"Accuracy for KMeans with %i\" %(n[i]) + \" n_iter = \", accuracy_score(y_pred, y_test))"
   ]
  },
  {
   "cell_type": "markdown",
   "id": "9533b2d5-c1e9-4670-8bc9-1f53c1189eb0",
   "metadata": {},
   "source": [
    "## 3. Clustering (EM)"
   ]
  },
  {
   "cell_type": "code",
   "execution_count": 26,
   "id": "ee9bcfa7-46c9-4724-a83d-5945e51e5051",
   "metadata": {},
   "outputs": [
    {
     "name": "stdout",
     "output_type": "stream",
     "text": [
      "[[0. 1. 0. 0.]\n",
      " [0. 0. 0. 1.]\n",
      " [0. 0. 0. 1.]\n",
      " [0. 0. 0. 1.]\n",
      " [1. 0. 0. 0.]]\n"
     ]
    }
   ],
   "source": [
    "from sklearn.mixture import GaussianMixture\n",
    "gmm = GaussianMixture(n_components=4).fit(X_train)\n",
    "# predict the labels for data points\n",
    "labels = gmm.predict(X_train)\n",
    "# probabilistic cluster assignments\n",
    "probs = gmm.predict_proba(X_train)\n",
    "print(probs[:5].round(3))\n"
   ]
  },
  {
   "cell_type": "markdown",
   "id": "16afef30-ee96-4156-83cd-96e54e3f8dc5",
   "metadata": {},
   "source": [
    "**1) [3 pts] run GaussianMixture 4 times by changing n_components = 2, 3, 4, 5 respectively.**"
   ]
  },
  {
   "cell_type": "code",
   "execution_count": 27,
   "id": "fecdea73-2315-4e32-a3d0-1b1c47facde5",
   "metadata": {},
   "outputs": [
    {
     "name": "stdout",
     "output_type": "stream",
     "text": [
      "n_components =  2\n",
      "[[0. 1.]\n",
      " [0. 1.]\n",
      " [0. 1.]\n",
      " [1. 0.]\n",
      " [0. 1.]]\n",
      "n_components =  3\n",
      "[[0. 1. 0.]\n",
      " [0. 1. 0.]\n",
      " [0. 0. 1.]\n",
      " [1. 0. 0.]\n",
      " [0. 1. 0.]]\n",
      "n_components =  4\n",
      "[[1. 0. 0. 0.]\n",
      " [1. 0. 0. 0.]\n",
      " [0. 0. 1. 0.]\n",
      " [0. 0. 0. 1.]\n",
      " [1. 0. 0. 0.]]\n",
      "n_components =  5\n",
      "[[0. 0. 0. 0. 1.]\n",
      " [0. 0. 0. 1. 0.]\n",
      " [0. 1. 0. 0. 0.]\n",
      " [0. 0. 0. 1. 0.]\n",
      " [0. 0. 0. 0. 1.]]\n"
     ]
    }
   ],
   "source": [
    "n = [2, 3, 4, 5]\n",
    "\n",
    "for i in range(len(n)):\n",
    "    gmm = GaussianMixture(n_components=n[i]).fit(X_train)\n",
    "    # predict the labels for data points\n",
    "    labels = gmm.predict(X_train)\n",
    "    # probabilistic cluster assignments\n",
    "    probs = gmm.predict_proba(X_train)\n",
    "    print('n_components = ', n[i])\n",
    "    print(probs[:5].round())\n"
   ]
  },
  {
   "cell_type": "markdown",
   "id": "a604c3c2-e947-4490-afeb-6ce65158a0ef",
   "metadata": {},
   "source": [
    "**2) [3 pts] For the clustering of n_components=4, show the predicted labels for the input data.**"
   ]
  },
  {
   "cell_type": "code",
   "execution_count": 28,
   "id": "b1bc0fd4-c7b7-438d-8f38-9dca67002a19",
   "metadata": {},
   "outputs": [
    {
     "name": "stdout",
     "output_type": "stream",
     "text": [
      "[2 3 3 3 3 1 1 3 3 3 2 1 3 2 3 3 2 3 3 2 3 2 3 1 3 0 1 3 1 3 3 2 3 3 3 2 1\n",
      " 2 3 3 3 3 1 2 2 3 1 1 2 3 2 1 3 0 2 1 3 1 3 3 2 3 3 3 3 1 3 0 1 3 1 3 2 0\n",
      " 3 3 2 0 1 3 2 3 1 2 3 0 3 3 3 3 3 2 2 3 2 1 3 3 2 0 0 1 3 2 1 3 2 1 3 2 2\n",
      " 1 1 3 3 3 3 2 3 2 2 2 1 2 3 3 1 3 3 3 2 2 3 0 3 3 3 1 2 1 1 2 3 1 3 3 2 3\n",
      " 1 3 2 3 1 3 1 3 3 3 3 1 3 2 2 0 2 3 2 3 2 3 2 3 2 3 2 1 3 1 2 3 3 3 2 2 1\n",
      " 3 3 0 0]\n"
     ]
    }
   ],
   "source": [
    "gmm = GaussianMixture(n_components=4).fit(X_train)\n",
    "# predict the labels for data points\n",
    "labels = gmm.predict(X_train)\n",
    "# probabilistic cluster assignments\n",
    "probs = gmm.predict_proba(X_train)\n",
    "\n",
    "print(labels)\n"
   ]
  },
  {
   "cell_type": "markdown",
   "id": "d63b707b-0d8a-404f-b543-5c2f470669a9",
   "metadata": {},
   "source": [
    "**3) [3 pts] show the probabilistic cluster assignments. This returns a matrix of size.**"
   ]
  },
  {
   "cell_type": "code",
   "execution_count": 29,
   "id": "953b19ff-bb6e-4e02-b5a3-5ad3edd33742",
   "metadata": {},
   "outputs": [
    {
     "name": "stdout",
     "output_type": "stream",
     "text": [
      "[[2.65810575e-021 1.39635137e-132 1.00000000e+000 1.69944118e-032]\n",
      " [3.41360975e-009 9.80478044e-085 9.99999997e-001 2.33607343e-034]\n",
      " [5.29768002e-006 9.99994702e-001 0.00000000e+000 2.44117332e-012]\n",
      " [3.20918051e-005 9.28479549e-217 0.00000000e+000 9.99967908e-001]\n",
      " [1.48484990e-038 3.94709015e-312 1.00000000e+000 6.44435333e-025]\n",
      " [1.00000000e+000 4.80738361e-048 0.00000000e+000 8.15840660e-027]\n",
      " [9.99998887e-001 7.20539797e-017 0.00000000e+000 1.11255589e-006]\n",
      " [1.93156477e-038 0.00000000e+000 1.00000000e+000 2.05944571e-019]\n",
      " [7.29879224e-082 0.00000000e+000 1.00000000e+000 9.73659160e-025]\n",
      " [2.03310972e-026 6.51010595e-139 0.00000000e+000 1.00000000e+000]\n",
      " [2.88166031e-056 1.98351978e-067 1.00000000e+000 2.63362056e-020]\n",
      " [6.78048377e-030 4.74386216e-040 1.00000000e+000 2.77900549e-018]\n",
      " [3.54422193e-010 2.06382709e-050 1.00000000e+000 1.79962885e-022]\n",
      " [1.14209404e-038 3.29137063e-108 1.00000000e+000 2.76651066e-028]\n",
      " [7.29628369e-025 0.00000000e+000 1.00000000e+000 3.68895806e-026]\n",
      " [1.59452116e-080 7.05283561e-190 1.00000000e+000 2.54162189e-016]\n",
      " [6.77138850e-113 9.99999476e-001 0.00000000e+000 5.24194529e-007]\n",
      " [1.57171455e-032 1.37627351e-216 1.00000000e+000 2.99460919e-015]\n",
      " [1.44200051e-040 0.00000000e+000 1.00000000e+000 1.35217078e-028]\n",
      " [1.04345517e-045 4.71742894e-083 1.00000000e+000 1.41278201e-013]\n",
      " [3.17311440e-010 9.99999878e-001 0.00000000e+000 1.21847942e-007]\n",
      " [1.85107411e-021 2.58408987e-081 1.00000000e+000 3.32200458e-019]\n",
      " [9.46592066e-013 8.55434170e-115 1.00000000e+000 4.36547018e-027]\n",
      " [2.84547922e-004 8.80776522e-290 0.00000000e+000 9.99715452e-001]\n",
      " [9.46804782e-056 2.34495975e-190 1.00000000e+000 6.81897394e-013]\n",
      " [2.15412541e-038 1.22889764e-179 1.00000000e+000 9.29962639e-016]\n",
      " [6.54027115e-004 7.50648216e-147 0.00000000e+000 9.99345973e-001]\n",
      " [2.33036974e-051 0.00000000e+000 1.00000000e+000 6.86779606e-032]\n",
      " [6.02467333e-016 1.84140256e-037 0.00000000e+000 1.00000000e+000]\n",
      " [1.33714146e-039 7.36854797e-037 0.00000000e+000 1.00000000e+000]\n",
      " [4.30770079e-014 0.00000000e+000 0.00000000e+000 1.00000000e+000]\n",
      " [8.34216534e-053 3.61757184e-067 1.00000000e+000 1.81581906e-016]\n",
      " [9.99910529e-001 8.94708432e-005 0.00000000e+000 2.34233798e-014]\n",
      " [1.36545701e-010 5.04291334e-170 0.00000000e+000 1.00000000e+000]\n",
      " [1.00006883e-028 3.15534077e-055 1.00000000e+000 8.77753551e-013]\n",
      " [9.37760873e-022 1.09135745e-110 1.00000000e+000 1.47968029e-027]\n",
      " [6.86480828e-033 4.04216434e-069 1.00000000e+000 7.89941614e-018]\n",
      " [2.86715036e-019 4.42343852e-154 1.00000000e+000 5.84574584e-021]\n",
      " [1.60539001e-071 6.53344309e-083 1.00000000e+000 5.04892236e-015]\n",
      " [1.00000000e+000 4.31913043e-037 0.00000000e+000 4.45097940e-023]\n",
      " [1.14398262e-020 7.40417215e-042 1.00000000e+000 4.11447191e-016]\n",
      " [1.75338127e-088 1.72156722e-139 1.00000000e+000 1.73707949e-022]\n",
      " [7.92793414e-010 4.49570802e-189 0.00000000e+000 9.99999999e-001]\n",
      " [6.98443872e-073 9.38585348e-078 1.00000000e+000 9.39392729e-017]\n",
      " [1.93699348e-107 1.49260220e-108 1.00000000e+000 6.54142655e-017]\n",
      " [9.99997965e-001 5.95875793e-235 0.00000000e+000 2.03508948e-006]\n",
      " [1.77375186e-008 1.88476970e-215 0.00000000e+000 9.99999982e-001]\n",
      " [9.99946312e-001 4.83067463e-026 0.00000000e+000 5.36884334e-005]\n",
      " [6.57563319e-039 1.95073011e-097 1.00000000e+000 3.90260188e-036]\n",
      " [2.64570250e-011 7.14745592e-248 0.00000000e+000 1.00000000e+000]\n",
      " [5.08865166e-048 0.00000000e+000 1.00000000e+000 3.39847412e-035]\n",
      " [9.99999228e-001 0.00000000e+000 0.00000000e+000 7.71525716e-007]\n",
      " [9.99172736e-001 1.12656121e-070 0.00000000e+000 8.27263923e-004]\n",
      " [9.61318156e-028 1.09853248e-007 0.00000000e+000 9.99999890e-001]\n",
      " [2.32858295e-040 1.87790110e-042 1.00000000e+000 1.21474326e-021]\n",
      " [7.34572522e-017 2.71740916e-014 0.00000000e+000 1.00000000e+000]\n",
      " [3.02854777e-006 8.79758726e-190 0.00000000e+000 9.99996971e-001]\n",
      " [9.99616237e-001 3.05774317e-010 0.00000000e+000 3.83762716e-004]\n",
      " [2.60739785e-014 3.43646349e-061 0.00000000e+000 1.00000000e+000]\n",
      " [5.56006043e-011 9.33325983e-156 0.00000000e+000 1.00000000e+000]\n",
      " [5.58521026e-043 3.00725737e-106 1.00000000e+000 2.91883878e-014]\n",
      " [2.23935095e-023 5.44318136e-070 1.00000000e+000 1.98329680e-010]\n",
      " [1.09364382e-027 9.99999982e-001 0.00000000e+000 1.77192606e-008]\n",
      " [1.57633262e-062 8.22259458e-208 1.00000000e+000 1.29392982e-011]\n",
      " [1.62577846e-014 1.13788148e-055 1.00000000e+000 2.42848813e-024]\n",
      " [9.96465491e-001 7.66378609e-276 0.00000000e+000 3.53450858e-003]\n",
      " [2.16918810e-017 5.24275390e-196 1.00000000e+000 7.68248905e-015]\n",
      " [1.68056763e-058 0.00000000e+000 1.00000000e+000 3.46855828e-015]\n",
      " [4.68675883e-005 3.77061408e-267 0.00000000e+000 9.99953132e-001]\n",
      " [3.07461601e-021 2.12875698e-066 1.00000000e+000 6.40357832e-012]\n",
      " [9.99638193e-001 1.74791168e-031 0.00000000e+000 3.61807255e-004]\n",
      " [7.19832926e-016 3.52156311e-051 0.00000000e+000 1.00000000e+000]\n",
      " [4.97673119e-061 1.50025166e-096 1.00000000e+000 3.02040358e-016]\n",
      " [9.99943309e-001 4.75630203e-130 0.00000000e+000 5.66909422e-005]\n",
      " [1.69703077e-036 5.81313910e-119 1.00000000e+000 1.25114325e-015]\n",
      " [3.69294299e-015 1.01210667e-188 1.00000000e+000 1.78676033e-011]\n",
      " [1.20619185e-035 7.95567564e-132 1.00000000e+000 3.41227811e-014]\n",
      " [3.54972978e-068 8.85262887e-068 0.00000000e+000 1.00000000e+000]\n",
      " [5.22640063e-009 1.28668017e-030 0.00000000e+000 9.99999995e-001]\n",
      " [7.08612725e-032 0.00000000e+000 1.00000000e+000 3.94514399e-017]\n",
      " [1.64358197e-054 7.03418784e-124 1.00000000e+000 4.68254183e-026]\n",
      " [1.46713202e-016 9.86399553e-065 1.00000000e+000 7.44897402e-011]\n",
      " [5.22046629e-005 8.40983109e-024 0.00000000e+000 9.99947795e-001]\n",
      " [4.07800702e-024 4.43428201e-122 1.00000000e+000 1.44314776e-035]\n",
      " [4.73258467e-026 9.78703937e-084 1.00000000e+000 2.56952693e-029]\n",
      " [4.58348551e-072 7.95119591e-080 1.00000000e+000 1.07869821e-020]\n",
      " [9.99778973e-001 3.00478294e-292 0.00000000e+000 2.21027028e-004]\n",
      " [7.97412861e-007 9.99999203e-001 0.00000000e+000 2.80557723e-017]\n",
      " [2.30936365e-030 9.99999859e-001 0.00000000e+000 1.41279887e-007]\n",
      " [1.16337322e-028 9.65165905e-107 1.00000000e+000 2.85939567e-010]\n",
      " [8.14067465e-011 2.10991015e-012 0.00000000e+000 1.00000000e+000]\n",
      " [5.99689214e-022 9.27801403e-073 1.00000000e+000 6.59729569e-019]\n",
      " [2.05848959e-020 1.00000000e+000 0.00000000e+000 3.99774672e-017]\n",
      " [7.98486969e-020 2.36221282e-192 0.00000000e+000 1.00000000e+000]\n",
      " [6.63874416e-025 1.00000000e+000 0.00000000e+000 4.15190955e-023]\n",
      " [8.33796544e-005 3.89158912e-072 0.00000000e+000 9.99916620e-001]\n",
      " [1.75928237e-015 1.00000000e+000 0.00000000e+000 1.76753357e-016]\n",
      " [2.12169468e-028 0.00000000e+000 1.00000000e+000 9.61847978e-016]\n",
      " [8.80078509e-093 3.49520284e-068 1.00000000e+000 6.47345551e-017]\n",
      " [7.92626174e-017 4.76213567e-041 0.00000000e+000 1.00000000e+000]\n",
      " [6.76143829e-015 0.00000000e+000 0.00000000e+000 1.00000000e+000]\n",
      " [2.29071430e-007 2.50050359e-105 0.00000000e+000 9.99999771e-001]\n",
      " [4.88426157e-012 1.00000000e+000 0.00000000e+000 6.80853177e-015]\n",
      " [6.41130038e-137 9.99999342e-001 6.57754072e-007 6.81894849e-042]\n",
      " [1.00000000e+000 3.06037434e-141 0.00000000e+000 7.16421793e-022]\n",
      " [1.97116433e-053 0.00000000e+000 1.00000000e+000 2.79631155e-020]\n",
      " [5.38544831e-052 1.15241796e-231 1.00000000e+000 8.40345660e-025]\n",
      " [9.99850541e-001 2.34540815e-107 0.00000000e+000 1.49458687e-004]\n",
      " [5.78454956e-006 0.00000000e+000 0.00000000e+000 9.99994215e-001]\n",
      " [1.30286565e-052 7.39909915e-313 1.00000000e+000 2.13046222e-021]\n",
      " [3.36158696e-032 8.91100886e-273 1.00000000e+000 2.25835197e-018]\n",
      " [1.18946860e-025 7.89489704e-218 1.00000000e+000 4.02687501e-010]\n",
      " [9.70073850e-001 2.06808688e-056 0.00000000e+000 2.99261499e-002]\n",
      " [1.00000000e+000 6.98491231e-017 0.00000000e+000 4.30742800e-018]\n",
      " [1.76860487e-011 0.00000000e+000 0.00000000e+000 1.00000000e+000]\n",
      " [2.42539953e-019 1.14393481e-079 1.00000000e+000 8.59667107e-015]\n",
      " [5.99566929e-013 1.16849035e-010 0.00000000e+000 1.00000000e+000]\n",
      " [5.38518574e-057 4.42638865e-066 1.00000000e+000 6.88746529e-018]\n",
      " [2.74571586e-046 2.34679888e-060 1.00000000e+000 4.63352843e-018]\n",
      " [3.94095576e-050 2.47514849e-149 1.00000000e+000 4.21828106e-024]\n",
      " [1.78181952e-028 1.33674923e-190 1.00000000e+000 6.72974457e-026]\n",
      " [5.77319091e-015 9.24138289e-159 1.00000000e+000 4.15391621e-031]\n",
      " [1.10384378e-004 7.01573217e-322 0.00000000e+000 9.99889616e-001]\n",
      " [4.26843741e-035 1.00000000e+000 0.00000000e+000 1.17827482e-033]\n",
      " [1.65674116e-008 5.42196384e-094 9.99999983e-001 1.00469364e-034]\n",
      " [1.20353598e-037 5.88752615e-106 1.00000000e+000 6.28334131e-014]\n",
      " [9.45746363e-031 1.21764512e-240 1.00000000e+000 9.70126061e-013]\n",
      " [2.84721462e-020 1.32683880e-132 1.00000000e+000 1.43039418e-011]\n",
      " [1.39690333e-013 1.00000000e+000 0.00000000e+000 1.06051050e-021]\n",
      " [1.28599573e-032 6.90614908e-259 1.00000000e+000 6.05573435e-016]\n",
      " [7.13887818e-022 1.91361945e-229 1.00000000e+000 7.24982812e-039]\n",
      " [3.21003411e-050 9.99990972e-001 0.00000000e+000 9.02826916e-006]\n",
      " [5.11081501e-039 5.85988529e-272 1.00000000e+000 6.02724379e-022]\n",
      " [1.18087821e-023 4.18282542e-014 0.00000000e+000 1.00000000e+000]\n",
      " [1.00000000e+000 8.62597079e-107 0.00000000e+000 5.23029168e-023]\n",
      " [4.09539081e-026 7.58571626e-308 1.00000000e+000 1.35798187e-017]\n",
      " [4.86810110e-042 9.99776670e-001 0.00000000e+000 2.23329955e-004]\n",
      " [1.00222255e-004 1.03708217e-105 0.00000000e+000 9.99899778e-001]\n",
      " [3.94695776e-018 9.99999558e-001 0.00000000e+000 4.41800039e-007]\n",
      " [9.99999239e-001 1.12681113e-015 0.00000000e+000 7.61222020e-007]\n",
      " [1.29225804e-010 4.08356741e-013 0.00000000e+000 1.00000000e+000]\n",
      " [5.99445189e-021 1.07915852e-101 1.00000000e+000 4.67120715e-034]\n",
      " [2.83893318e-018 2.36572252e-065 1.00000000e+000 1.59541740e-010]\n",
      " [3.30538961e-018 1.46845483e-086 1.00000000e+000 3.28702598e-028]\n",
      " [1.33207932e-024 3.63038212e-261 0.00000000e+000 1.00000000e+000]\n",
      " [7.63037944e-016 1.73739149e-066 9.99999999e-001 5.63151195e-010]\n",
      " [2.26778516e-060 1.14948635e-156 1.00000000e+000 1.22353828e-015]\n",
      " [1.00000000e+000 2.50070750e-051 0.00000000e+000 7.83480151e-015]\n",
      " [2.51276962e-003 1.93254612e-039 0.00000000e+000 9.97487230e-001]\n",
      " [4.82974776e-012 4.74502628e-143 1.00000000e+000 2.34826081e-015]\n",
      " [6.24444394e-031 1.89469929e-116 1.00000000e+000 1.84274913e-031]\n",
      " [8.56395201e-032 3.94982663e-055 1.00000000e+000 2.69691537e-013]\n",
      " [1.00000000e+000 8.08720753e-050 0.00000000e+000 1.00461665e-013]\n",
      " [4.29913551e-022 4.17063148e-052 0.00000000e+000 1.00000000e+000]\n",
      " [2.25529430e-009 5.27633480e-133 0.00000000e+000 9.99999998e-001]\n",
      " [2.05060446e-019 1.06883287e-021 0.00000000e+000 1.00000000e+000]\n",
      " [9.62643680e-028 0.00000000e+000 0.00000000e+000 1.00000000e+000]\n",
      " [8.94789016e-048 9.99981776e-001 0.00000000e+000 1.82238263e-005]\n",
      " [4.65266063e-042 1.59343323e-126 1.00000000e+000 3.72713821e-015]\n",
      " [9.82248890e-001 1.88013948e-132 0.00000000e+000 1.77511096e-002]\n",
      " [3.75273982e-026 1.64450948e-073 1.00000000e+000 2.23502455e-022]\n",
      " [2.37559446e-027 9.07425495e-078 1.00000000e+000 2.09802885e-028]\n",
      " [7.22476197e-018 1.80246094e-150 1.00000000e+000 3.93158424e-036]\n",
      " [1.38210115e-036 2.25892157e-115 1.00000000e+000 3.05157175e-014]\n",
      " [8.88203238e-019 5.04058449e-189 1.00000000e+000 8.76642552e-020]\n",
      " [5.46155607e-009 2.72954981e-122 0.00000000e+000 9.99999995e-001]\n",
      " [4.28277951e-066 6.93219961e-066 1.00000000e+000 7.16706867e-022]\n",
      " [2.68929617e-022 4.04407637e-086 1.00000000e+000 6.76910367e-012]\n",
      " [6.78672795e-018 6.46697222e-141 1.00000000e+000 8.82428468e-022]\n",
      " [2.37143792e-026 2.06380012e-141 1.00000000e+000 9.97189928e-026]\n",
      " [1.68516848e-035 4.45903293e-054 1.00000000e+000 1.56143254e-011]\n",
      " [1.98666126e-021 0.00000000e+000 1.00000000e+000 1.58727625e-028]\n",
      " [8.14876813e-038 4.40859492e-231 1.00000000e+000 3.39921668e-018]\n",
      " [4.17014629e-016 0.00000000e+000 1.00000000e+000 3.77704201e-049]\n",
      " [2.11901532e-030 1.54331222e-273 1.00000000e+000 2.26549133e-025]\n",
      " [1.60909793e-034 8.95141880e-111 1.00000000e+000 6.04116121e-014]\n",
      " [1.12930651e-017 2.40330336e-139 1.00000000e+000 1.20384003e-014]\n",
      " [4.13750794e-008 4.40354715e-104 0.00000000e+000 9.99999959e-001]\n",
      " [7.01066871e-046 1.00000000e+000 0.00000000e+000 2.47278146e-010]\n",
      " [2.34777109e-040 1.29408852e-040 1.00000000e+000 6.69955366e-013]\n",
      " [5.82513094e-020 0.00000000e+000 1.00000000e+000 1.46922651e-020]\n",
      " [5.02706187e-034 0.00000000e+000 1.00000000e+000 1.87373536e-037]\n",
      " [8.73778614e-032 1.00000000e+000 0.00000000e+000 2.96447221e-015]\n",
      " [1.67307282e-117 4.81003561e-121 1.00000000e+000 4.96165005e-024]\n",
      " [9.99999963e-001 2.80562029e-014 0.00000000e+000 3.72408343e-008]\n",
      " [1.83598910e-019 4.38883688e-279 1.00000000e+000 4.19295411e-021]\n",
      " [9.99999998e-001 0.00000000e+000 0.00000000e+000 1.95893160e-009]\n",
      " [6.25389305e-032 2.07909991e-224 0.00000000e+000 1.00000000e+000]\n",
      " [4.36094743e-069 2.31984045e-031 1.00000000e+000 2.15801321e-022]]\n"
     ]
    }
   ],
   "source": [
    "gmm = GaussianMixture(n_components=4).fit(X_train)\n",
    "# predict the labels for data points\n",
    "labels = gmm.predict(X_train)\n",
    "# probabilistic cluster assignments\n",
    "probs = gmm.predict_proba(X_train)\n",
    "\n",
    "print(probs)"
   ]
  },
  {
   "cell_type": "markdown",
   "id": "d96a0478-31a7-4c79-8d32-ed9a087ce811",
   "metadata": {},
   "source": [
    "**4) [3 pts] Suppose each of X_test is classified based on ‘cluster labels’, calculate the accuracy.**"
   ]
  },
  {
   "cell_type": "code",
   "execution_count": 30,
   "id": "158b9cbe-1731-4941-9e3b-6466d04e091a",
   "metadata": {},
   "outputs": [
    {
     "name": "stdout",
     "output_type": "stream",
     "text": [
      "accuracy =  0.35802469135802467\n"
     ]
    }
   ],
   "source": [
    "gmm = GaussianMixture(n_components=2).fit(X_train)\n",
    "# predict the labels for data points\n",
    "y_pred = gmm.predict(X_test)\n",
    "# probabilistic cluster assignments\n",
    "print('accuracy = ', accuracy_score(y_pred, y_test))"
   ]
  },
  {
   "cell_type": "markdown",
   "id": "714467de-ed96-43e5-a4ec-b3f8e0ab8067",
   "metadata": {},
   "source": [
    "# Extra Credit\n"
   ]
  },
  {
   "cell_type": "code",
   "execution_count": 31,
   "id": "0ea32db9-7eb9-4050-831a-cd5756175803",
   "metadata": {},
   "outputs": [],
   "source": [
    "from sklearn import preprocessing "
   ]
  },
  {
   "cell_type": "code",
   "execution_count": 32,
   "id": "8bfe432e-d864-48a3-a492-2e4ece7ce24e",
   "metadata": {},
   "outputs": [],
   "source": [
    "df = pd.read_csv(\"iris.data\", header = None)"
   ]
  },
  {
   "cell_type": "code",
   "execution_count": 33,
   "id": "1f577810-b8c1-4e9d-aaf8-98fc9a4ec533",
   "metadata": {},
   "outputs": [],
   "source": [
    "label_encoder = preprocessing.LabelEncoder() \n",
    "df[4]= label_encoder.fit_transform(df[4]) "
   ]
  },
  {
   "cell_type": "code",
   "execution_count": 34,
   "id": "cbaa5d90-cae0-43c4-8a02-00b7e2db72d9",
   "metadata": {},
   "outputs": [
    {
     "data": {
      "text/plain": [
       "(150, 5)"
      ]
     },
     "execution_count": 34,
     "metadata": {},
     "output_type": "execute_result"
    }
   ],
   "source": [
    "df.shape"
   ]
  },
  {
   "cell_type": "markdown",
   "id": "8d150c3a-3aea-4983-a392-dcc40ef83429",
   "metadata": {},
   "source": [
    "**Check if NULL Values are Present**"
   ]
  },
  {
   "cell_type": "code",
   "execution_count": 35,
   "id": "172be08b-faa1-4a28-9c6f-fe5dae47f081",
   "metadata": {},
   "outputs": [
    {
     "data": {
      "text/plain": [
       "0    0\n",
       "1    0\n",
       "2    0\n",
       "3    0\n",
       "4    0\n",
       "dtype: int64"
      ]
     },
     "execution_count": 35,
     "metadata": {},
     "output_type": "execute_result"
    }
   ],
   "source": [
    "df.isna().sum()"
   ]
  },
  {
   "cell_type": "code",
   "execution_count": 36,
   "id": "81b9b2a0-af71-42af-944e-a0030ca8c2c0",
   "metadata": {},
   "outputs": [
    {
     "name": "stdout",
     "output_type": "stream",
     "text": [
      "0\n",
      "0\n",
      "0\n",
      "0\n",
      "0\n"
     ]
    }
   ],
   "source": [
    "for col in df:\n",
    "   a = (df[col] == \"?\").sum()\n",
    "   print(a)"
   ]
  },
  {
   "cell_type": "markdown",
   "id": "1d1dd56d-a63f-4807-ae56-65e0dc1ae792",
   "metadata": {},
   "source": [
    "**Encode the Output Class**"
   ]
  },
  {
   "cell_type": "markdown",
   "id": "4fce1084-0c7e-4ac5-a4bb-1e43999a0f99",
   "metadata": {},
   "source": [
    "**Train Test Split**"
   ]
  },
  {
   "cell_type": "code",
   "execution_count": 37,
   "id": "cb08884f-54c1-4aeb-ad16-279a11fd8b8e",
   "metadata": {},
   "outputs": [],
   "source": [
    "X = df.iloc[: , 0:4]\n",
    "y = df.iloc[: , 4]\n",
    "X_train, X_test, y_train, y_test = train_test_split(X, y , test_size = 0.3, random_state = 123)"
   ]
  },
  {
   "cell_type": "markdown",
   "id": "e9b8c1d8-616d-4411-8b11-3e77de177d06",
   "metadata": {},
   "source": [
    "**Standardization**"
   ]
  },
  {
   "cell_type": "code",
   "execution_count": 38,
   "id": "9c97b99b-3764-4990-bdb2-649ec7b95307",
   "metadata": {},
   "outputs": [],
   "source": [
    "scaler = StandardScaler()\n",
    "X_train = scaler.fit_transform(X_train)\n",
    "X_test = scaler.transform(X_test)"
   ]
  },
  {
   "cell_type": "markdown",
   "id": "1867e05f-6c91-4dcd-a07d-c917617701ea",
   "metadata": {},
   "source": [
    "## 1. Running SVM"
   ]
  },
  {
   "cell_type": "code",
   "execution_count": 39,
   "id": "c1b15d74-99ec-40dd-b826-5d4187c77a7a",
   "metadata": {},
   "outputs": [
    {
     "name": "stdout",
     "output_type": "stream",
     "text": [
      "accuracy =  0.9555555555555556\n"
     ]
    }
   ],
   "source": [
    "clf = svm.SVC()\n",
    "clf.fit(X_train, y_train)\n",
    "predictions = clf.predict(X_test)\n",
    "print(\"accuracy = \", accuracy_score(y_test, predictions))"
   ]
  },
  {
   "cell_type": "code",
   "execution_count": 40,
   "id": "3f6c2c5d-36c7-472d-8080-c1074428ad9e",
   "metadata": {},
   "outputs": [
    {
     "data": {
      "text/plain": [
       "array([[18,  0,  0],\n",
       "       [ 0, 10,  0],\n",
       "       [ 0,  2, 15]])"
      ]
     },
     "execution_count": 40,
     "metadata": {},
     "output_type": "execute_result"
    }
   ],
   "source": [
    "confusion_matrix(y_test,predictions)"
   ]
  },
  {
   "cell_type": "markdown",
   "id": "b9a71dc8-c44e-485b-a39e-2739e518de48",
   "metadata": {},
   "source": [
    "**1) [3 pts] show the accuracies of SVC by changing kernel to ‘linear’, ‘poly’, ‘rbf’, and ‘sigmoid’,\n",
    "respectively. Which kernel function shows the best accuracy ? and explain why ?**\n",
    "\n",
    "The choice of kernel depends on the dataset. The data is linear, so the kernel = linear performs the best."
   ]
  },
  {
   "cell_type": "code",
   "execution_count": 41,
   "id": "eb60bcf1-1b2c-48fa-b00e-4faa13166c43",
   "metadata": {},
   "outputs": [],
   "source": [
    "kernel = ['linear', 'rbf', 'poly', 'sigmoid']\n",
    "acc = []\n",
    "\n",
    "for i in range(len(kernel)):\n",
    "    clf = svm.SVC(kernel = kernel[i])\n",
    "    clf.fit(X_train, y_train)\n",
    "    predictions = clf.predict(X_test)\n",
    "    accuracy = (accuracy_score(y_test, predictions))\n",
    "    acc.append(accuracy)"
   ]
  },
  {
   "cell_type": "code",
   "execution_count": 42,
   "id": "10317af0-6e49-4862-9acf-e58b6790573d",
   "metadata": {},
   "outputs": [
    {
     "data": {
      "image/png": "[encoded data removed]",
      "text/plain": [
       "<Figure size 500x400 with 1 Axes>"
      ]
     },
     "metadata": {},
     "output_type": "display_data"
    }
   ],
   "source": [
    "plt.figure(figsize = [5,4])\n",
    "plt.plot(kernel, acc, ls = \"dashed\", color = \"y\")\n",
    "plt.scatter(kernel, acc,color = \"g\")\n",
    "\n",
    "\n",
    "plt.xlabel(\"Kernel\")\n",
    "plt.ylabel(\"Accuracy\")\n",
    "plt.grid()"
   ]
  },
  {
   "cell_type": "markdown",
   "id": "af5fde20-17e3-4eba-98db-a124e3669751",
   "metadata": {},
   "source": [
    "**2) [3 pts] Now you use ‘poly’ kernel. Change the value of coef0 multiple times to your own choice\n",
    "and show the difference in accuracy. Roughly speaking, it controls how much the model is\n",
    "influenced by high-degree polynomials. Explain the results of this experiments.**\n",
    "\n",
    "The coef hyperparameter defines the degree of polynomial. It performs the best with 2nd degree polynomial degree.\n"
   ]
  },
  {
   "cell_type": "code",
   "execution_count": 43,
   "id": "e04e385d-dca7-4109-a0a4-8a76ddc06819",
   "metadata": {},
   "outputs": [],
   "source": [
    "coef = [0, 1 , 2, 3]\n",
    "acc = []\n",
    "\n",
    "for i in range(len(coef)):\n",
    "    clf = svm.SVC(kernel = 'poly', coef0 = coef[i])\n",
    "    clf.fit(X_train, y_train)\n",
    "    predictions = clf.predict(X_test)\n",
    "    accuracy = (accuracy_score(y_test, predictions))\n",
    "    acc.append(accuracy)"
   ]
  },
  {
   "cell_type": "code",
   "execution_count": 44,
   "id": "cbe38f30-82df-4a50-8ebe-a584f32d1312",
   "metadata": {},
   "outputs": [
    {
     "data": {
      "image/png": "[encoded data removed]",
      "text/plain": [
       "<Figure size 500x400 with 1 Axes>"
      ]
     },
     "metadata": {},
     "output_type": "display_data"
    }
   ],
   "source": [
    "plt.figure(figsize = [5,4])\n",
    "plt.plot(coef, acc, ls = \"dashed\", color = \"y\")\n",
    "plt.scatter(coef, acc,color = \"g\")\n",
    "\n",
    "\n",
    "plt.xlabel(\"Co-efficient\")\n",
    "plt.ylabel(\"Accuracy\")\n",
    "plt.grid()"
   ]
  },
  {
   "cell_type": "markdown",
   "id": "90bf24eb-1d61-4563-b8e2-dc654cc29986",
   "metadata": {},
   "source": [
    "## 2. Clustering (K Means)"
   ]
  },
  {
   "cell_type": "code",
   "execution_count": 45,
   "id": "c25bdf61-beda-4f78-9173-b21761241419",
   "metadata": {
    "scrolled": true
   },
   "outputs": [
    {
     "name": "stdout",
     "output_type": "stream",
     "text": [
      "Inertia for KMeans with 4 clusters = 82.912010 \n"
     ]
    },
    {
     "name": "stderr",
     "output_type": "stream",
     "text": [
      "/home/manishakarim/miniconda3/lib/python3.9/site-packages/sklearn/cluster/_kmeans.py:1412: FutureWarning: The default value of `n_init` will change from 10 to 'auto' in 1.4. Set the value of `n_init` explicitly to suppress the warning\n",
      "  super()._check_params_vs_input(X, default_n_init=10)\n",
      "/home/manishakarim/miniconda3/lib/python3.9/site-packages/sklearn/cluster/_kmeans.py:1416: FutureWarning: algorithm='auto' is deprecated, it will be removed in 1.3. Using 'lloyd' instead.\n",
      "  warnings.warn(\n"
     ]
    }
   ],
   "source": [
    "kmeans = KMeans(n_clusters=4, max_iter=600, algorithm = 'auto', random_state=0)\n",
    "kmeans.fit(X_train)\n",
    "labels = kmeans.predict(X_train)\n",
    "# cluster labels for each data\n",
    "label = kmeans.labels_\n",
    "# center of each clusters\n",
    "centroids = kmeans.cluster_centers_\n",
    "# distance within cluster\n",
    "print(\"Inertia for KMeans with 4 clusters = %lf \" %(kmeans.inertia_))"
   ]
  },
  {
   "cell_type": "markdown",
   "id": "90de87fb-dae0-4203-b033-ec98801da397",
   "metadata": {},
   "source": [
    "**1) [3 pts] Run KMeans 3 times by changing n_clusters = 2, 3, 5, 7 respectively and show the\n",
    "mean of each cluster**"
   ]
  },
  {
   "cell_type": "code",
   "execution_count": 46,
   "id": "7d486f37-27d6-4f15-aabe-10b53fda0cb0",
   "metadata": {},
   "outputs": [
    {
     "name": "stdout",
     "output_type": "stream",
     "text": [
      "Inertia for KMeans with 2 clusters = 157.977659 \n",
      "Inertia for KMeans with 3 clusters = 102.711433 \n",
      "Inertia for KMeans with 5 clusters = 67.649305 \n",
      "Inertia for KMeans with 7 clusters = 50.448632 \n"
     ]
    },
    {
     "name": "stderr",
     "output_type": "stream",
     "text": [
      "/home/manishakarim/miniconda3/lib/python3.9/site-packages/sklearn/cluster/_kmeans.py:1412: FutureWarning: The default value of `n_init` will change from 10 to 'auto' in 1.4. Set the value of `n_init` explicitly to suppress the warning\n",
      "  super()._check_params_vs_input(X, default_n_init=10)\n",
      "/home/manishakarim/miniconda3/lib/python3.9/site-packages/sklearn/cluster/_kmeans.py:1412: FutureWarning: The default value of `n_init` will change from 10 to 'auto' in 1.4. Set the value of `n_init` explicitly to suppress the warning\n",
      "  super()._check_params_vs_input(X, default_n_init=10)\n",
      "/home/manishakarim/miniconda3/lib/python3.9/site-packages/sklearn/cluster/_kmeans.py:1412: FutureWarning: The default value of `n_init` will change from 10 to 'auto' in 1.4. Set the value of `n_init` explicitly to suppress the warning\n",
      "  super()._check_params_vs_input(X, default_n_init=10)\n",
      "/home/manishakarim/miniconda3/lib/python3.9/site-packages/sklearn/cluster/_kmeans.py:1412: FutureWarning: The default value of `n_init` will change from 10 to 'auto' in 1.4. Set the value of `n_init` explicitly to suppress the warning\n",
      "  super()._check_params_vs_input(X, default_n_init=10)\n"
     ]
    }
   ],
   "source": [
    "n = [2, 3, 5, 7]\n",
    "\n",
    "\n",
    "for i in range(len(n)):\n",
    "        kmeans = KMeans(n_clusters=n[i], max_iter=600, random_state=0)\n",
    "        kmeans.fit(X_train)\n",
    "        labels = kmeans.predict(X_train)\n",
    "        # cluster labels for each data\n",
    "        label = kmeans.labels_\n",
    "        # center of each clusters\n",
    "        centroids = kmeans.cluster_centers_\n",
    "        # distance within cluster\n",
    "        print(\"Inertia for KMeans with %i\" %(n[i]) + \" clusters = %lf \" %(kmeans.inertia_))"
   ]
  },
  {
   "cell_type": "markdown",
   "id": "29932dcf-fdc9-4d3a-9b60-0d498a268160",
   "metadata": {},
   "source": [
    "**2) [3 pts] For the clustering of n_clusters=3, pick one cluster. Show the average value of each\n",
    "attribute of the data in that cluster.**"
   ]
  },
  {
   "cell_type": "code",
   "execution_count": 47,
   "id": "7734b8a7-badc-4cec-a9c2-1487c7f4863a",
   "metadata": {},
   "outputs": [
    {
     "name": "stderr",
     "output_type": "stream",
     "text": [
      "/home/manishakarim/miniconda3/lib/python3.9/site-packages/sklearn/cluster/_kmeans.py:1412: FutureWarning: The default value of `n_init` will change from 10 to 'auto' in 1.4. Set the value of `n_init` explicitly to suppress the warning\n",
      "  super()._check_params_vs_input(X, default_n_init=10)\n",
      "/home/manishakarim/miniconda3/lib/python3.9/site-packages/sklearn/cluster/_kmeans.py:1416: FutureWarning: algorithm='auto' is deprecated, it will be removed in 1.3. Using 'lloyd' instead.\n",
      "  warnings.warn(\n"
     ]
    },
    {
     "data": {
      "text/html": [
       "<div>\n",
       "<style scoped>\n",
       "    .dataframe tbody tr th:only-of-type {\n",
       "        vertical-align: middle;\n",
       "    }\n",
       "\n",
       "    .dataframe tbody tr th {\n",
       "        vertical-align: top;\n",
       "    }\n",
       "\n",
       "    .dataframe thead th {\n",
       "        text-align: right;\n",
       "    }\n",
       "</style>\n",
       "<table border=\"1\" class=\"dataframe\">\n",
       "  <thead>\n",
       "    <tr style=\"text-align: right;\">\n",
       "      <th></th>\n",
       "      <th>attributes</th>\n",
       "      <th>average</th>\n",
       "    </tr>\n",
       "  </thead>\n",
       "  <tbody>\n",
       "    <tr>\n",
       "      <th>0</th>\n",
       "      <td>0</td>\n",
       "      <td>1.072808</td>\n",
       "    </tr>\n",
       "    <tr>\n",
       "      <th>1</th>\n",
       "      <td>1</td>\n",
       "      <td>0.073885</td>\n",
       "    </tr>\n",
       "    <tr>\n",
       "      <th>2</th>\n",
       "      <td>2</td>\n",
       "      <td>0.922563</td>\n",
       "    </tr>\n",
       "    <tr>\n",
       "      <th>3</th>\n",
       "      <td>3</td>\n",
       "      <td>0.914582</td>\n",
       "    </tr>\n",
       "  </tbody>\n",
       "</table>\n",
       "</div>"
      ],
      "text/plain": [
       "   attributes   average\n",
       "0           0  1.072808\n",
       "1           1  0.073885\n",
       "2           2  0.922563\n",
       "3           3  0.914582"
      ]
     },
     "execution_count": 47,
     "metadata": {},
     "output_type": "execute_result"
    }
   ],
   "source": [
    "kmeans = KMeans(n_clusters=3, max_iter=600, algorithm = 'auto', random_state=0)\n",
    "kmeans.fit(X_train)\n",
    "labels = kmeans.predict(X_train)\n",
    "# cluster labels for each data\n",
    "label = kmeans.labels_\n",
    "# center of each clusters\n",
    "centroids = kmeans.cluster_centers_[0]  #Centroids of 1st cluster\n",
    "attributes = X.columns\n",
    "\n",
    "pd.DataFrame({'attributes':attributes, 'average':centroids})"
   ]
  },
  {
   "cell_type": "markdown",
   "id": "3009c133-cd29-4dc5-9c0a-939b007476d8",
   "metadata": {},
   "source": [
    "**3) [3 pts] For each cluster, calculate majority (the most frequent) value of class/target value. (let’s\n",
    "call this ‘cluster label’)**"
   ]
  },
  {
   "cell_type": "code",
   "execution_count": 48,
   "id": "2adf99e8-e32d-4b18-8e66-f90f040041f0",
   "metadata": {},
   "outputs": [
    {
     "name": "stdout",
     "output_type": "stream",
     "text": [
      "\n",
      " cluster_label = 0 \n",
      " y  label\n",
      "2  0        24\n",
      "1  0        12\n",
      "Name: count, dtype: int64\n",
      "\n",
      " cluster_label = 1 \n",
      " y  label\n",
      "0  1        32\n",
      "Name: count, dtype: int64\n",
      "\n",
      " cluster_label = 2 \n",
      " y  label\n",
      "1  2        28\n",
      "2  2         9\n",
      "Name: count, dtype: int64\n"
     ]
    },
    {
     "name": "stderr",
     "output_type": "stream",
     "text": [
      "/home/manishakarim/miniconda3/lib/python3.9/site-packages/sklearn/cluster/_kmeans.py:1412: FutureWarning: The default value of `n_init` will change from 10 to 'auto' in 1.4. Set the value of `n_init` explicitly to suppress the warning\n",
      "  super()._check_params_vs_input(X, default_n_init=10)\n",
      "/home/manishakarim/miniconda3/lib/python3.9/site-packages/sklearn/cluster/_kmeans.py:1416: FutureWarning: algorithm='auto' is deprecated, it will be removed in 1.3. Using 'lloyd' instead.\n",
      "  warnings.warn(\n"
     ]
    }
   ],
   "source": [
    "kmeans = KMeans(n_clusters=3, max_iter=600, algorithm = 'auto', random_state=0)\n",
    "kmeans.fit(X_train)\n",
    "labels = kmeans.predict(X_train)\n",
    "# cluster labels for each data\n",
    "label = kmeans.labels_\n",
    "cluster_label = pd.DataFrame({'y' : y_train, 'label': label})\n",
    "\n",
    "print('\\n cluster_label = 0 \\n',(cluster_label[label == 0]).value_counts())\n",
    "print('\\n cluster_label = 1 \\n',(cluster_label[label == 1]).value_counts())\n",
    "print('\\n cluster_label = 2 \\n',(cluster_label[label == 2]).value_counts())\n"
   ]
  }
 ],
 "metadata": {
  "kernelspec": {
   "display_name": "py39_manisha",
   "language": "python",
   "name": "py39_manisha"
  },
  "language_info": {
   "codemirror_mode": {
    "name": "ipython",
    "version": 3
   },
   "file_extension": ".py",
   "mimetype": "text/x-python",
   "name": "python",
   "nbconvert_exporter": "python",
   "pygments_lexer": "ipython3",
   "version": "3.9.18"
  }
 },
 "nbformat": 4,
 "nbformat_minor": 5
}
